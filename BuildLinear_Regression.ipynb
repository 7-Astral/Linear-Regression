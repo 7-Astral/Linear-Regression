{
  "nbformat": 4,
  "nbformat_minor": 0,
  "metadata": {
    "colab": {
      "name": "Untitled0.ipynb",
      "provenance": [],
      "collapsed_sections": [],
      "authorship_tag": "ABX9TyMn1arr29PxmiHAkbFxuQII",
      "include_colab_link": true
    },
    "kernelspec": {
      "name": "python3",
      "display_name": "Python 3"
    },
    "language_info": {
      "name": "python"
    }
  },
  "cells": [
    {
      "cell_type": "markdown",
      "metadata": {
        "id": "view-in-github",
        "colab_type": "text"
      },
      "source": [
        "<a href=\"https://colab.research.google.com/github/7-Astral/Linear-Regression/blob/main/BuildLinear_Regression.ipynb\" target=\"_parent\"><img src=\"https://colab.research.google.com/assets/colab-badge.svg\" alt=\"Open In Colab\"/></a>"
      ]
    },
    {
      "cell_type": "code",
      "execution_count": 1,
      "metadata": {
        "id": "3Vd-Zj5BRzQ8"
      },
      "outputs": [],
      "source": [
        "import numpy as np"
      ]
    },
    {
      "cell_type": "code",
      "source": [
        "class Linear_Regression:\n",
        "  # Initializatio the Parameter.\n",
        "  def _init__(self,learning_rate,no_of_iteration):\n",
        "\n",
        "    self.learning_rate=learning_rate\n",
        "    self.no_of_iteration=no_of_iteration\n",
        "\n",
        "  def fit(self,X,Y):\n",
        "    #Number of TrainingExample & Number of Feature\n",
        "    self.m,self.n=X.shape\n",
        "    self.w=np.zeros(self.n)\n",
        "    self.b=0\n",
        "    self.X=X\n",
        "    self.Y=Y\n",
        "    #Implement GradientDescent\n",
        "    for i in range(self.no_of_iteration):\n",
        "      self.update_weights()\n",
        "  \n",
        "  def update_weights(self):\n",
        "\n",
        "    Y_prediction=self.predict(self.X)\n",
        "\n",
        "    #Gradient Calculation\n",
        "\n",
        "    dw=-(2 * (self.X.T).dot(self.Y-Y_prediction)) / self.m\n",
        "\n",
        "    db=- 2 * np.sum(self.Y-Y_prediction)/self.m\n",
        "\n",
        "    #Update Weights\n",
        "    self.w=self.w -self.learning_rate*dw\n",
        "    self.b=self.b -self.learning_rate*db\n",
        "\n",
        "  def predict(self,X):\n",
        "\n",
        "    return X.dot(self.w)+self.b"
      ],
      "metadata": {
        "id": "VLpY9AnLYK7F"
      },
      "execution_count": null,
      "outputs": []
    }
  ]
}